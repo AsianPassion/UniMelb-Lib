{
 "cells": [
  {
   "cell_type": "markdown",
   "metadata": {},
   "source": [
    "# COMP90051 Project 2"
   ]
  },
  {
   "cell_type": "code",
   "execution_count": 1,
   "metadata": {},
   "outputs": [],
   "source": [
    "# Do not edit. These are the only imports permitted.\n",
    "%matplotlib inline\n",
    "import numpy as np\n",
    "from numpy.linalg import inv\n",
    "import matplotlib.pyplot as plt\n",
    "from abc import ABC, abstractmethod"
   ]
  },
  {
   "cell_type": "markdown",
   "metadata": {},
   "source": [
    "## 1. Implementing ε-Greedy and UCB"
   ]
  },
  {
   "cell_type": "code",
   "execution_count": 2,
   "metadata": {},
   "outputs": [],
   "source": [
    "class MAB(ABC):\n",
    "    \"\"\"\n",
    "    Abstract class that represents a multi-armed bandit (MAB)\n",
    "    \"\"\"\n",
    "    \n",
    "    @abstractmethod\n",
    "    def play(self, tround, context):\n",
    "        \"\"\"\n",
    "        Play a round\n",
    "        \n",
    "        Arguments\n",
    "        =========\n",
    "        tround : int\n",
    "            positive integer identifying the round\n",
    "        \n",
    "        context : 1D float array, shape (self.ndims * self.narms), optional\n",
    "            context given to the arms\n",
    "        \n",
    "        Returns\n",
    "        =======\n",
    "        arm : int\n",
    "            the positive integer arm id for this round\n",
    "        \"\"\"\n",
    "    \n",
    "    @abstractmethod\n",
    "    def update(self, arm, reward, context):\n",
    "        \"\"\"\n",
    "        Updates the internal state of the MAB after a play\n",
    "        \n",
    "        Arguments\n",
    "        =========\n",
    "        arm : int\n",
    "            a positive integer arm id in {1, ..., self.narms}\n",
    "        \n",
    "        reward : float\n",
    "            reward received from arm\n",
    "        \n",
    "        context : 1D float array, shape (self.ndims * self.narms), optional\n",
    "            context given to arms\n",
    "        \"\"\"\n",
    "    def check_context(self, context, narms):\n",
    "        if context is not None:\n",
    "            assert isinstance(context, np.ndarray)\n",
    "            assert np.issubdtype(context.dtype, np.floating)\n",
    "            assert context.size % narms == 0\n",
    "            \n",
    "    def check_arm(self, arm):\n",
    "        assert np.issubdtype(type(arm), np.integer) \n",
    "        assert arm <= self.narms and arm >= 1\n",
    "        \n",
    "    def check_reward(self, reward):\n",
    "        assert np.issubdtype(type(reward), np.floating)\n",
    "        \n",
    "    def check_tround(self, tround):\n",
    "        assert np.issubdtype(type(tround), np.integer) \n",
    "        assert tround > 0\n",
    "        \n",
    "    def check_narm(self, narms):\n",
    "        assert np.issubdtype(type(narms), np.integer) \n",
    "        assert narms > 0\n",
    "    \n",
    "    def argmax_random(self, a):\n",
    "        return np.random.choice(np.flatnonzero(a == a.max())) + 1"
   ]
  },
  {
   "cell_type": "code",
   "execution_count": 3,
   "metadata": {},
   "outputs": [],
   "source": [
    "class EpsGreedy(MAB):\n",
    "    \"\"\"\n",
    "    Epsilon-Greedy multi-armed bandit\n",
    "\n",
    "    Arguments\n",
    "    =========\n",
    "    narms : int\n",
    "        number of arms\n",
    "\n",
    "    epsilon : float\n",
    "        explore probability in interval [0.0, 1.0]\n",
    "\n",
    "    Q0 : float, optional\n",
    "        initial value for the arms\n",
    "    \"\"\"\n",
    "    \n",
    "    def __init__(self, narms, epsilon, Q0=np.inf):\n",
    "        self.check_narm(narms)\n",
    "        assert np.issubdtype(type(epsilon), np.floating) \n",
    "        assert epsilon >= 0 and epsilon <= 1\n",
    "        assert np.issubdtype(type(Q0), np.floating)\n",
    "        \n",
    "        self.narms = narms\n",
    "        self.epsilon = epsilon\n",
    "        self.Q0 = Q0\n",
    "        self.num_pulls = np.zeros(narms)\n",
    "        self.mean_rewards = np.full(narms, Q0)\n",
    "        \n",
    "    def play(self, tround, context=None):\n",
    "        self.check_tround(tround)\n",
    "        self.check_context(context, self.narms)\n",
    "        \n",
    "        if np.random.binomial(1, self.epsilon):\n",
    "            return np.random.randint(1, self.narms + 1)\n",
    "        else:\n",
    "            return self.argmax_random(self.mean_rewards)\n",
    "        \n",
    "    def update(self, arm, reward, context=None):\n",
    "        self.check_arm(arm)\n",
    "        self.check_reward(reward)        \n",
    "        self.check_context(context, self.narms)\n",
    "        \n",
    "        arm_0 = arm - 1\n",
    "        n = self.num_pulls[arm_0]\n",
    "        if n > 0:\n",
    "            self.mean_rewards[arm_0] = (self.mean_rewards[arm_0] * n + reward) / (n + 1)\n",
    "        else:\n",
    "            self.mean_rewards[arm_0] = reward\n",
    "        self.num_pulls[arm_0] += 1"
   ]
  },
  {
   "cell_type": "code",
   "execution_count": 4,
   "metadata": {},
   "outputs": [],
   "source": [
    "class UCB(MAB):\n",
    "    \"\"\"\n",
    "    Upper Confidence Bound (UCB) multi-armed bandit\n",
    "\n",
    "    Arguments\n",
    "    =========\n",
    "    narms : int\n",
    "        number of arms\n",
    "\n",
    "    rho : float\n",
    "        positive real explore-exploit parameter\n",
    "\n",
    "    Q0 : float, optional\n",
    "        initial value for the arms\n",
    "    \"\"\"\n",
    "    \n",
    "    def __init__(self, narms, rho, Q0=np.inf):\n",
    "        self.check_narm(narms)\n",
    "        assert np.issubdtype(type(rho), np.floating) \n",
    "        assert rho > 0\n",
    "        assert np.issubdtype(type(Q0), np.floating)\n",
    "        \n",
    "        self.narms = narms\n",
    "        self.rho = rho\n",
    "        self.Q0 = Q0\n",
    "        self.num_pulls = np.zeros(narms)\n",
    "        self.mean_rewards = np.full(narms, self.Q0)\n",
    "    \n",
    "    def play(self, tround, context=None):\n",
    "        self.check_tround(tround)\n",
    "        self.check_context(context, self.narms)\n",
    "        \n",
    "        Q_prev = np.copy(self.mean_rewards)\n",
    "        if (tround > 1):\n",
    "            pulled_prev = self.num_pulls > 0\n",
    "            Q_prev[pulled_prev] += np.sqrt(self.rho * np.log(tround) / self.num_pulls[pulled_prev])\n",
    "        return self.argmax_random(Q_prev)\n",
    "        \n",
    "    def update(self, arm, reward, context=None):\n",
    "        self.check_arm(arm)\n",
    "        self.check_reward(reward)        \n",
    "        self.check_context(context, self.narms)\n",
    "        \n",
    "        arm_0 = arm - 1\n",
    "        n = self.num_pulls[arm_0]\n",
    "        if n > 0:\n",
    "            self.mean_rewards[arm_0] = (self.mean_rewards[arm_0] * n + reward) / (n + 1)\n",
    "        else:\n",
    "            self.mean_rewards[arm_0] = reward\n",
    "        self.num_pulls[arm_0] += 1"
   ]
  },
  {
   "cell_type": "markdown",
   "metadata": {},
   "source": [
    "## 2. The Basic Thompson Bandit"
   ]
  },
  {
   "cell_type": "code",
   "execution_count": 5,
   "metadata": {},
   "outputs": [],
   "source": [
    "class BetaThompson(MAB):\n",
    "    \"\"\"\n",
    "    Beta-Bernoulli Thompson sampling multi-armed bandit\n",
    "\n",
    "    Arguments\n",
    "    =========\n",
    "    narms : int\n",
    "        number of arms\n",
    "\n",
    "    alpha0 : float, optional\n",
    "        positive real prior hyperparameter\n",
    "\n",
    "    beta0 : float, optional\n",
    "        positive real prior hyperparameter\n",
    "    \"\"\"\n",
    "    \n",
    "    def __init__(self, narms, alpha0=1.0, beta0=1.0):\n",
    "        self.check_narm(narms)\n",
    "        assert np.issubdtype(type(alpha0), np.floating)\n",
    "        assert alpha0 > 0\n",
    "        assert np.issubdtype(type(beta0), np.floating) \n",
    "        assert beta0 > 0\n",
    "        \n",
    "        self.narms = narms\n",
    "        self.alpha0 = np.ones(narms) * alpha0\n",
    "        self.beta0 = np.ones(narms) * beta0\n",
    "        self.sucess = np.zeros(narms)\n",
    "        self.fail = np.zeros(narms)\n",
    "        self.theta = np.zeros(narms)\n",
    "    \n",
    "    def play(self, tround, context=None):\n",
    "        self.check_tround(tround)\n",
    "        self.check_context(context, self.narms)\n",
    "        \n",
    "        for i in range(0, self.narms):\n",
    "            self.theta[i] = np.random.beta(self.alpha0[i] + self.sucess[i], self.beta0[i] + self.fail[i])\n",
    "        return self.argmax_random(self.theta)\n",
    "        \n",
    "        \n",
    "    def update(self, arm, reward, context=None):\n",
    "        self.check_arm(arm)\n",
    "        self.check_reward(reward)        \n",
    "        self.check_context(context, self.narms)\n",
    "        \n",
    "        arm_0 = arm - 1\n",
    "        if (reward == 1):\n",
    "            self.sucess[arm_0] += 1\n",
    "        else:\n",
    "            self.fail[arm_0] += 1\n",
    "        "
   ]
  },
  {
   "cell_type": "markdown",
   "metadata": {},
   "source": [
    "## 3. Off-Policy Evaluation"
   ]
  },
  {
   "cell_type": "code",
   "execution_count": 6,
   "metadata": {},
   "outputs": [],
   "source": [
    "def offlineEvaluate(mab, arms, rewards, contexts, nrounds=None):\n",
    "    \"\"\"\n",
    "    Offline evaluation of a multi-armed bandit\n",
    "    \n",
    "    Arguments\n",
    "    =========\n",
    "    mab : instance of MAB\n",
    "    \n",
    "    arms : 1D int array, shape (nevents,) \n",
    "        integer arm id for each event\n",
    "    \n",
    "    rewards : 1D float array, shape (nevents,)\n",
    "        reward received for each event\n",
    "    \n",
    "    contexts : 2D float array, shape (nevents, mab.narms*nfeatures)\n",
    "        contexts presented to the arms (stacked horizontally) \n",
    "        for each event.\n",
    "        \n",
    "    nrounds : int, optional\n",
    "        number of matching events to evaluate `mab` on.\n",
    "    \n",
    "    Returns\n",
    "    =======\n",
    "    out : 1D float array\n",
    "        rewards for the matching events\n",
    "    \"\"\"\n",
    "    assert isinstance(mab, MAB)\n",
    "    for arrayName in ['arms', 'rewards', 'contexts']:\n",
    "        assert isinstance(eval(arrayName), np.ndarray)\n",
    "    assert (np.issubdtype(type(nrounds), np.integer) and nrounds >= 0) or (nrounds is None)\n",
    "    assert np.issubdtype(arms.dtype, np.integer)\n",
    "    assert np.issubdtype(rewards.dtype, np.floating)\n",
    "    assert np.issubdtype(contexts.dtype, np.floating)\n",
    "    assert arms.ndim == 1\n",
    "    assert rewards.ndim == 1\n",
    "    assert contexts.ndim == 2\n",
    "    assert arms.shape[0] == rewards.shape[0] == contexts.shape[0]\n",
    "    assert contexts.shape[1] % mab.narms == 0\n",
    "    assert arms.max() <= mab.narms and arms.min() >= 1\n",
    "    \n",
    "    matched_ctr = 0\n",
    "    matched_rewards = list()\n",
    "    for i in range(arms.size):\n",
    "        if nrounds is not None and matched_ctr >= nrounds:\n",
    "            break\n",
    "        arm = mab.play(matched_ctr + 1, contexts[i])\n",
    "        if arm == arms[i]:\n",
    "            mab.update(arm, rewards[i], contexts[i])\n",
    "            matched_ctr += 1\n",
    "            matched_rewards.append(rewards[i])\n",
    "    return np.array(matched_rewards)"
   ]
  },
  {
   "cell_type": "code",
   "execution_count": 7,
   "metadata": {},
   "outputs": [],
   "source": [
    "def read_data(file_name='dataset.txt'):\n",
    "    arms = []\n",
    "    rewards = []\n",
    "    contexts = []\n",
    "    with open(file_name, 'r') as file:\n",
    "        for line in file.readlines():\n",
    "            tokens = line.strip().split()\n",
    "            arms.append(tokens[0])\n",
    "            rewards.append(tokens[1])\n",
    "            contexts.append(tokens[2:])\n",
    "    return (arms, rewards, contexts)\n",
    "\n",
    "arms, rewards, contexts = read_data()\n",
    "\n",
    "arms = np.array(arms).astype(int)\n",
    "rewards = np.array(rewards).astype(float)\n",
    "contexts = np.array(contexts).astype(float)"
   ]
  },
  {
   "cell_type": "code",
   "execution_count": 8,
   "metadata": {},
   "outputs": [
    {
     "name": "stdout",
     "output_type": "stream",
     "text": [
      "EpsGreedy average reward 0.13125\n"
     ]
    }
   ],
   "source": [
    "mab = EpsGreedy(10, 0.05)\n",
    "results_EpsGreedy = offlineEvaluate(mab, arms, rewards, contexts, 800)\n",
    "print('EpsGreedy average reward', np.mean(results_EpsGreedy))"
   ]
  },
  {
   "cell_type": "code",
   "execution_count": 9,
   "metadata": {},
   "outputs": [
    {
     "name": "stdout",
     "output_type": "stream",
     "text": [
      "UCB average reward 0.16125\n"
     ]
    }
   ],
   "source": [
    "mab = UCB(10, 1.0)\n",
    "results_UCB = offlineEvaluate(mab, arms, rewards, contexts, 800)\n",
    "print('UCB average reward', np.mean(results_UCB))"
   ]
  },
  {
   "cell_type": "code",
   "execution_count": 10,
   "metadata": {},
   "outputs": [
    {
     "name": "stdout",
     "output_type": "stream",
     "text": [
      "BetaThompson average reward 0.20875\n"
     ]
    }
   ],
   "source": [
    "mab = BetaThompson(10, 1.0, 1.0)\n",
    "results_BetaThompson = offlineEvaluate(mab, arms, rewards, contexts, 800)\n",
    "print('BetaThompson average reward', np.mean(results_BetaThompson))"
   ]
  },
  {
   "cell_type": "markdown",
   "metadata": {},
   "source": [
    "## 4. Contextual Bandits - LinUCB"
   ]
  },
  {
   "cell_type": "code",
   "execution_count": 11,
   "metadata": {},
   "outputs": [],
   "source": [
    "class LinUCB(MAB):\n",
    "    \"\"\"\n",
    "    Contextual multi-armed bandit (LinUCB)\n",
    "\n",
    "    Arguments\n",
    "    =========\n",
    "    narms : int\n",
    "        number of arms\n",
    "\n",
    "    ndims : int\n",
    "        number of dimensions for each arm's context\n",
    "\n",
    "    alpha : float\n",
    "        positive real explore-exploit parameter\n",
    "    \"\"\"\n",
    "    \n",
    "    def __init__(self, narms, ndims, alpha):\n",
    "        self.check_narm(narms)\n",
    "        assert np.issubdtype(type(ndims), np.integer) \n",
    "        assert ndims > 0\n",
    "        assert np.issubdtype(type(alpha), np.floating) \n",
    "        assert alpha > 0\n",
    "        \n",
    "        self.narms = narms\n",
    "        self.ndims = ndims\n",
    "        self.alpha = alpha\n",
    "        self.As = np.broadcast_to(np.eye(ndims), (narms, ndims, ndims)).copy()\n",
    "        self.bs = np.zeros((narms, ndims))\n",
    "        \n",
    "    def play(self, tround, context):\n",
    "        self.check_tround(tround)\n",
    "        self.check_context(context, self.narms)\n",
    "        \n",
    "        context = np.reshape(context, newshape=(self.narms, -1))\n",
    "        p_t = np.empty(self.narms)\n",
    "        for i in range(self.narms):\n",
    "            inv_a = inv(self.As[i])\n",
    "            x = context[i]\n",
    "            theta = inv_a @ self.bs[i]\n",
    "            p_t[i] = theta.dot(x) + self.alpha * np.sqrt(x.dot(inv_a @ x))\n",
    "        return self.argmax_random(p_t)\n",
    "    \n",
    "    def update(self, arm, reward, context):\n",
    "        self.check_arm(arm)\n",
    "        self.check_reward(reward)        \n",
    "        self.check_context(context, self.narms)\n",
    "        \n",
    "        arm0 = arm - 1\n",
    "        x = np.reshape(context, newshape=(self.narms, -1))[arm0]\n",
    "        self.As[arm0] += np.outer(x, x)\n",
    "        self.bs[arm0] += reward * x"
   ]
  },
  {
   "cell_type": "code",
   "execution_count": 12,
   "metadata": {},
   "outputs": [
    {
     "name": "stdout",
     "output_type": "stream",
     "text": [
      "LinUCB average reward 0.53\n"
     ]
    }
   ],
   "source": [
    "mab = LinUCB(10, 10, 1.0)\n",
    "results_LinUCB = offlineEvaluate(mab, arms, rewards, contexts, 800)\n",
    "print('LinUCB average reward', np.mean(results_LinUCB))"
   ]
  },
  {
   "cell_type": "markdown",
   "metadata": {},
   "source": [
    "## 5. Contextual Bandits - LinThompson"
   ]
  },
  {
   "cell_type": "code",
   "execution_count": 13,
   "metadata": {},
   "outputs": [],
   "source": [
    "class LinThompson(MAB):\n",
    "    \"\"\"\n",
    "    Contextual Thompson sampled multi-armed bandit (LinThompson)\n",
    "\n",
    "    Arguments\n",
    "    =========\n",
    "    narms : int\n",
    "        number of arms\n",
    "\n",
    "    ndims : int\n",
    "        number of dimensions for each arm's context\n",
    "\n",
    "    v : float\n",
    "        positive real explore-exploit parameter\n",
    "    \"\"\"\n",
    "    \n",
    "    def __init__(self, narms, ndims, v):\n",
    "        self.check_narm(narms)\n",
    "        assert np.issubdtype(type(ndims), np.integer) \n",
    "        assert ndims > 0\n",
    "        assert np.issubdtype(type(v), np.floating) \n",
    "        assert v > 0\n",
    "        \n",
    "        self.narms = narms\n",
    "        self.ndims = ndims\n",
    "        \n",
    "        self.b = np.broadcast_to(np.eye(ndims), (narms, ndims, ndims)).copy()\n",
    "        self.mu_hat = np.zeros((narms, ndims))\n",
    "        self.f = np.zeros((narms, ndims))\n",
    "        \n",
    "        self.v = v\n",
    "        \n",
    "    def play(self, tround, context):\n",
    "        self.check_tround(tround)\n",
    "        self.check_context(context, self.narms)\n",
    "        \n",
    "        context = np.reshape(context, newshape=(self.narms, -1))\n",
    "        p_t = np.empty(self.narms)\n",
    "        for i in range(self.narms):\n",
    "            inv_b = inv(self.b[i])\n",
    "            mu_wave = np.random.normal(self.mu_hat[i], np.abs(self.v * self.v * inv_b))[i]\n",
    "            x = context[i]\n",
    "            p_t[i] = x.dot(mu_wave)\n",
    "        return self.argmax_random(p_t)\n",
    "    \n",
    "    def update(self, arm, reward, context):\n",
    "        self.check_arm(arm)\n",
    "        self.check_reward(reward)        \n",
    "        self.check_context(context, self.narms)\n",
    "        \n",
    "        arm0 = arm - 1\n",
    "        x = np.reshape(context, newshape=(self.narms, -1))[arm0]\n",
    "        self.b[arm0] += np.outer(x, x)\n",
    "        self.f[arm0] += x * reward\n",
    "        self.mu_hat[arm0] = inv(self.b[arm0]) @ self.f[arm0]"
   ]
  },
  {
   "cell_type": "code",
   "execution_count": 14,
   "metadata": {},
   "outputs": [
    {
     "name": "stdout",
     "output_type": "stream",
     "text": [
      "LinThompson average reward 0.435\n"
     ]
    }
   ],
   "source": [
    "mab = LinThompson(10, 10, 1.0)\n",
    "results_LinThompson = offlineEvaluate(mab, arms, rewards, contexts, 800)\n",
    "print('LinThompson average reward', np.mean(results_LinThompson))"
   ]
  },
  {
   "cell_type": "markdown",
   "metadata": {},
   "source": [
    "## 6. Evaluation\n",
    "### 6.A."
   ]
  },
  {
   "cell_type": "code",
   "execution_count": 15,
   "metadata": {},
   "outputs": [
    {
     "data": {
      "image/png": "[encoded data removed]",
      "text/plain": [
       "<Figure size 432x288 with 1 Axes>"
      ]
     },
     "metadata": {
      "needs_background": "light"
     },
     "output_type": "display_data"
    }
   ],
   "source": [
    "for mab_algorithm in ['EpsGreedy', 'UCB', 'LinUCB', 'BetaThompson', 'LinThompson']:\n",
    "    results = eval('results_' + mab_algorithm)\n",
    "    t_round = np.arange(1, results.size + 1)\n",
    "    cumulative_reward_sum = np.cumsum(results)/t_round\n",
    "    plt.plot(t_round, cumulative_reward_sum, label=mab_algorithm)\n",
    "plt.legend()\n",
    "plt.xlabel('Round')\n",
    "plt.ylabel('Average cumulative reward')\n",
    "plt.show()"
   ]
  },
  {
   "cell_type": "markdown",
   "metadata": {},
   "source": [
    "### 6.B."
   ]
  },
  {
   "cell_type": "code",
   "execution_count": 16,
   "metadata": {},
   "outputs": [
    {
     "name": "stdout",
     "output_type": "stream",
     "text": [
      "Best alpha is 0.1\n"
     ]
    },
    {
     "data": {
      "image/png": "[encoded data removed]",
      "text/plain": [
       "<Figure size 432x288 with 1 Axes>"
      ]
     },
     "metadata": {
      "needs_background": "light"
     },
     "output_type": "display_data"
    }
   ],
   "source": [
    "\"\"\"Looking for best Alpha\"\"\"\n",
    "\n",
    "alpha_range = [i/10.0 for i in range(1,20)]\n",
    "narms = 10\n",
    "ndim = 10\n",
    "samples = 3\n",
    "nround = 800\n",
    "mean = np.empty(len(alpha_range))\n",
    "for i, alpha in enumerate(alpha_range):\n",
    "    temp = 0\n",
    "    for j in range(samples):\n",
    "        mab = LinUCB(narms, ndim, alpha)\n",
    "        temp += np.mean(offlineEvaluate(mab, arms, rewards, contexts, 800))\n",
    "    mean[i] = temp / samples\n",
    "\n",
    "print('Best alpha is ' + str(alpha_range[np.argmax(mean)]))\n",
    "\n",
    "plt.plot(alpha_range, mean, label='LinUCB')\n",
    "plt.xlabel('alpha')\n",
    "plt.ylabel('Average Cumulative reward')\n",
    "plt.show()\n"
   ]
  },
  {
   "cell_type": "code",
   "execution_count": 17,
   "metadata": {},
   "outputs": [
    {
     "name": "stdout",
     "output_type": "stream",
     "text": [
      "Best v is 1.2\n"
     ]
    },
    {
     "data": {
      "image/png": "[encoded data removed]",
      "text/plain": [
       "<Figure size 432x288 with 1 Axes>"
      ]
     },
     "metadata": {
      "needs_background": "light"
     },
     "output_type": "display_data"
    }
   ],
   "source": [
    "\"\"\"Looking for best v\"\"\"\n",
    "\n",
    "v_range = [i/10.0 for i in range(1,20)]\n",
    "narms = 10\n",
    "ndim = 10\n",
    "samples = 3\n",
    "nround = 800\n",
    "mean = np.empty(len(v_range))\n",
    "for i, alpha in enumerate(v_range):\n",
    "    temp = 0\n",
    "    for j in range(samples):\n",
    "        mab = LinThompson(narms, ndim, alpha)\n",
    "        temp += np.mean(offlineEvaluate(mab, arms, rewards, contexts, nround))\n",
    "    mean[i] = temp / samples\n",
    "\n",
    "print('Best v is ' + str(alpha_range[np.argmax(mean)]))\n",
    "\n",
    "plt.plot(alpha_range, mean, label='LinThompson')\n",
    "plt.xlabel('v')\n",
    "plt.ylabel('Average Cumulative reward')\n",
    "plt.show()"
   ]
  },
  {
   "cell_type": "code",
   "execution_count": null,
   "metadata": {},
   "outputs": [],
   "source": []
  }
 ],
 "metadata": {
  "kernelspec": {
   "display_name": "Python 3",
   "language": "python",
   "name": "python3"
  },
  "language_info": {
   "codemirror_mode": {
    "name": "ipython",
    "version": 3
   },
   "file_extension": ".py",
   "mimetype": "text/x-python",
   "name": "python",
   "nbconvert_exporter": "python",
   "pygments_lexer": "ipython3",
   "version": "3.7.3"
  }
 },
 "nbformat": 4,
 "nbformat_minor": 4
}
