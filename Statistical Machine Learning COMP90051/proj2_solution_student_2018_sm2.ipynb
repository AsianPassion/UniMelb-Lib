{
 "cells": [
  {
   "cell_type": "markdown",
   "metadata": {},
   "source": [
    "# COMP90051 Project 2"
   ]
  },
  {
   "cell_type": "code",
   "execution_count": 1,
   "metadata": {
    "collapsed": true,
    "jupyter": {
     "outputs_hidden": true
    }
   },
   "outputs": [],
   "source": [
    "# Do not edit. These are the only imports permitted.\n",
    "%matplotlib inline\n",
    "import numpy as np\n",
    "from numpy.linalg import inv\n",
    "import matplotlib.pyplot as plt\n",
    "from abc import ABC, abstractmethod"
   ]
  },
  {
   "cell_type": "markdown",
   "metadata": {},
   "source": [
    "## 1. Implement ε-Greedy and UCB"
   ]
  },
  {
   "cell_type": "code",
   "execution_count": 2,
   "metadata": {
    "collapsed": true,
    "jupyter": {
     "outputs_hidden": true
    }
   },
   "outputs": [],
   "source": [
    "class MAB(ABC):\n",
    "    \"\"\"\n",
    "    Abstract class that represents a multi-armed bandit (MAB)\n",
    "    \"\"\"\n",
    "    \n",
    "    @abstractmethod\n",
    "    def play(self, tround, context):\n",
    "        \"\"\"\n",
    "        Play a round\n",
    "        \n",
    "        Arguments\n",
    "        =========\n",
    "        tround : int\n",
    "            positive integer identifying the round\n",
    "        \n",
    "        context : 1D float array, shape (self.ndims * self.narms), optional\n",
    "            context given to the arms\n",
    "        \n",
    "        Returns\n",
    "        =======\n",
    "        arm : int\n",
    "            the positive integer arm id for this round\n",
    "        \"\"\"\n",
    "        pass\n",
    "    \n",
    "    @abstractmethod\n",
    "    def update(self, arm, reward, context):\n",
    "        \"\"\"\n",
    "        Updates the internal state of the MAB after a play\n",
    "        \n",
    "        Arguments\n",
    "        =========\n",
    "        arm : int\n",
    "            a positive integer arm id in {1, ..., self.narms}\n",
    "        \n",
    "        reward : float\n",
    "            reward received from arm\n",
    "        \n",
    "        context : 1D float array, shape (self.ndims * self.narms), optional\n",
    "            context given to arms\n",
    "        \"\"\"\n",
    "        pass"
   ]
  },
  {
   "cell_type": "code",
   "execution_count": 3,
   "metadata": {
    "collapsed": true,
    "jupyter": {
     "outputs_hidden": true
    }
   },
   "outputs": [],
   "source": [
    "class EpsGreedy(MAB):\n",
    "    \"\"\"\n",
    "    Epsilon-Greedy multi-armed bandit\n",
    "\n",
    "    Arguments\n",
    "    =========\n",
    "    narms : int\n",
    "        number of arms\n",
    "\n",
    "    epsilon : float\n",
    "        explore probability\n",
    "\n",
    "    Q0 : float, optional\n",
    "        initial value for the arms\n",
    "    \"\"\"\n",
    "    \n",
    "    def __init__(self, narms, epsilon, Q0=np.inf):\n",
    "        assert(narms > 0)\n",
    "        assert(epsilon >= 0 and epsilon <= 1)\n",
    "        self.counts = np.zeros(narms)  # 1D array: the number of times each arm was played\n",
    "        self.epsilon = epsilon         \n",
    "        self.Qs = np.full(narms, Q0)   # 1D array: average rewards observed for each arm\n",
    "        \n",
    "        \n",
    "    def play(self, tround, context=None):\n",
    "        \"\"\"\n",
    "        explore with probability of epsilon, exploit with probability of 1-epsilon\n",
    "        uniformly-random tie-breaking among euqally value-maximising arms\n",
    "        \"\"\"\n",
    "        if np.random.rand() < self.epsilon:\n",
    "            return np.random.choice(len(self.counts)) + 1\n",
    "        else:\n",
    "            idx_max_arms = np.where(self.Qs == np.max(self.Qs))[0]\n",
    "            return np.random.choice(idx_max_arms) + 1\n",
    "            \n",
    "        \n",
    "    def update(self, arm, reward, context=None):\n",
    "        count = self.counts[arm-1]\n",
    "        value = self.Qs[arm-1]\n",
    "        \n",
    "        self.counts[arm-1] = count + 1\n",
    "        \n",
    "        # for arms that is played the 1st time\n",
    "        if count == 0:\n",
    "            self.Qs[arm-1] = reward\n",
    "        # for arms that have already been played before\n",
    "        else:\n",
    "            self.Qs[arm-1] = (value * count + reward) / self.counts[arm-1]\n",
    "    "
   ]
  },
  {
   "cell_type": "code",
   "execution_count": 4,
   "metadata": {
    "collapsed": true,
    "jupyter": {
     "outputs_hidden": true
    }
   },
   "outputs": [],
   "source": [
    "class UCB(MAB):\n",
    "    \"\"\"\n",
    "    Upper Confidence Bound (UCB) multi-armed bandit\n",
    "\n",
    "    Arguments\n",
    "    =========\n",
    "    narms : int\n",
    "        number of arms\n",
    "\n",
    "    rho : float\n",
    "        positive real explore-exploit parameter\n",
    "\n",
    "    Q0 : float, optional\n",
    "        initial value for the arms\n",
    "    \"\"\"\n",
    "    \n",
    "    def __init__(self, narms, rho, Q0=np.inf):\n",
    "        assert(narms > 0)\n",
    "        assert(rho > 0)\n",
    "        self.counts = np.zeros(narms) # 1D array: the number of times each arm was played\n",
    "        self.rho = rho\n",
    "        self.Qs = np.full(narms, Q0)  # 1D array: rewards for each arm taking interval terms into account\n",
    "        self.mus = np.zeros(narms)    # 1D array: rewards for each arm without considering intervals\n",
    "        \n",
    "        \n",
    "    def play(self, tround, context=None):\n",
    "        \"\"\"\n",
    "        calculate rewards with considering of intervals, and then choose the arm that having the maximum\n",
    "        reward. uniformly-random tie-breaking among euqally value-maximising arms.\n",
    "        \"\"\"\n",
    "        for i in range(len(self.counts)):\n",
    "            # update rewards only for arms that have already been played before\n",
    "            if self.counts[i] > 0:\n",
    "                interval_term = np.sqrt(self.rho * np.log(tround) / self.counts[i])\n",
    "                self.Qs[i] = self.mus[i] + interval_term\n",
    "        idx_max_arms = np.where(self.Qs == np.max(self.Qs))[0]\n",
    "        return np.random.choice(idx_max_arms) + 1\n",
    "        \n",
    "        \n",
    "    def update(self, arm, reward, context=None):\n",
    "        count = self.counts[arm-1]\n",
    "        mu = self.mus[arm-1]\n",
    "        \n",
    "        self.counts[arm-1] = count + 1\n",
    "        self.mus[arm-1] = (mu * count + reward) / self.counts[arm-1]\n",
    "    "
   ]
  },
  {
   "cell_type": "markdown",
   "metadata": {},
   "source": [
    "## 2. Off-Policy Evaluation"
   ]
  },
  {
   "cell_type": "code",
   "execution_count": 5,
   "metadata": {
    "collapsed": true,
    "jupyter": {
     "outputs_hidden": true
    }
   },
   "outputs": [],
   "source": [
    "def offlineEvaluate(mab, arms, rewards, contexts, nrounds=None):\n",
    "    \"\"\"\n",
    "    Offline evaluation of a multi-armed bandit\n",
    "    \n",
    "    Arguments\n",
    "    =========\n",
    "    mab : instance of MAB\n",
    "    \n",
    "    arms : 1D int array, shape (nevents,) \n",
    "        integer arm id for each event\n",
    "    \n",
    "    rewards : 1D float array, shape (nevents,)\n",
    "        reward received for each event\n",
    "    \n",
    "    contexts : 2D float array, shape (nevents, mab.narms*nfeatures)\n",
    "        contexts presented to the arms (stacked horizontally) \n",
    "        for each event.\n",
    "        \n",
    "    nrounds : int, optional\n",
    "        number of matching events to evaluate `mab` on.\n",
    "    \n",
    "    Returns\n",
    "    =======\n",
    "    out : 1D float array\n",
    "        rewards for the matching events\n",
    "    \"\"\"\n",
    "    d_features = contexts.shape[1]  # dimensionality of feature/context for each arm\n",
    "    history = np.array([], dtype=float).reshape(0,d_features+2)  # the history as required on the paper\n",
    "    payoff = np.array([], dtype=float)  # the payoff as described on the paper\n",
    "    tround = 1\n",
    "    for i, event_arm in enumerate(arms):\n",
    "        reward = rewards[i]\n",
    "        context = contexts[i].copy()\n",
    "        \n",
    "        # take the recommended arm by the mab algorithm\n",
    "        mab_arm = mab.play(tround, context)\n",
    "        \n",
    "        if mab_arm != event_arm:\n",
    "            continue\n",
    "        else:\n",
    "            mab.update(mab_arm, reward, context)\n",
    "            tround += 1\n",
    "            history = np.vstack([history, np.concatenate([context, [mab_arm, reward]])])\n",
    "            payoff = np.append(payoff, reward)\n",
    "            if nrounds != None and tround > nrounds:\n",
    "                break\n",
    "                \n",
    "    return payoff\n",
    "            "
   ]
  },
  {
   "cell_type": "code",
   "execution_count": 6,
   "metadata": {
    "collapsed": true,
    "jupyter": {
     "outputs_hidden": true
    }
   },
   "outputs": [],
   "source": [
    "\"\"\"self-added cell for data pre-processing\"\"\"\n",
    "\n",
    "def read_data(file_name='dataset.txt'):\n",
    "    arms = []\n",
    "    rewards = []\n",
    "    contexts = []\n",
    "    with open(file_name, 'r') as file:\n",
    "        for line in file.readlines():\n",
    "            tokens = line.strip().split()\n",
    "            arms.append(tokens[0])\n",
    "            rewards.append(tokens[1])\n",
    "            contexts.append(tokens[2:])\n",
    "    return (arms, rewards, contexts)\n",
    "\n",
    "arms,rewards,contexts = read_data()\n",
    "\n",
    "arms = np.array(arms).astype(int)\n",
    "rewards = np.array(rewards).astype(float)\n",
    "contexts = np.array(contexts).astype(float)"
   ]
  },
  {
   "cell_type": "code",
   "execution_count": 19,
   "metadata": {},
   "outputs": [
    {
     "name": "stdout",
     "output_type": "stream",
     "text": [
      "EpsGreedy average reward 0.14125\n"
     ]
    }
   ],
   "source": [
    "mab = EpsGreedy(10, 0.05)\n",
    "results_EpsGreedy = offlineEvaluate(mab, arms, rewards, contexts, 800)\n",
    "print('EpsGreedy average reward', np.mean(results_EpsGreedy))"
   ]
  },
  {
   "cell_type": "code",
   "execution_count": 24,
   "metadata": {},
   "outputs": [
    {
     "name": "stdout",
     "output_type": "stream",
     "text": [
      "UCB average reward 0.15375\n"
     ]
    }
   ],
   "source": [
    "mab = UCB(10, 1.0)\n",
    "results_UCB = offlineEvaluate(mab, arms, rewards, contexts, 800)\n",
    "print('UCB average reward', np.mean(results_UCB))"
   ]
  },
  {
   "cell_type": "markdown",
   "metadata": {},
   "source": [
    "## 3. Contextual Bandits"
   ]
  },
  {
   "cell_type": "code",
   "execution_count": 25,
   "metadata": {
    "collapsed": true,
    "jupyter": {
     "outputs_hidden": true
    }
   },
   "outputs": [],
   "source": [
    "class LinUCB(MAB):\n",
    "    \"\"\"\n",
    "    Contextual multi-armed bandit (LinUCB)\n",
    "\n",
    "    Arguments\n",
    "    =========\n",
    "    narms : int\n",
    "        number of arms\n",
    "\n",
    "    ndims : int\n",
    "        number of dimensions for each arm's context\n",
    "\n",
    "    alpha : float\n",
    "        positive real explore-exploit parameter\n",
    "    \"\"\"\n",
    "    \n",
    "    def __init__(self, narms, ndims, alpha):\n",
    "        assert(narms > 0)\n",
    "        assert(ndims > 0)\n",
    "        assert(alpha > 0)\n",
    "        self.narms = narms\n",
    "        self.ndims = ndims\n",
    "        self.alpha = alpha\n",
    "        \n",
    "        # array of matrix in dimension (narms,ndims,ndims)\n",
    "        self.As = np.array([np.eye(ndims) for i in range(narms)]).reshape(narms, ndims, ndims)\n",
    "        # array of vectors in dimension (narms,ndims)\n",
    "        self.bs = np.array([np.zeros(ndims).T for i in range(narms)])\n",
    "        # 1D float array storing rewards\n",
    "        self.ps = np.zeros(narms)\n",
    "    \n",
    "        \n",
    "    def play(self, tround, context):\n",
    "        \"\"\"\n",
    "        calculate rewards for each arm according to the algorithm shown on the paper\n",
    "        tie-breaking is in a uniformly-random way\n",
    "        \"\"\"\n",
    "        # extracting corresponding context for each arm\n",
    "        xs = np.array([context[i*self.ndims:(i+1)*self.ndims] for i in range(self.narms)])\n",
    "        \n",
    "        for a in range(self.narms):\n",
    "            x_a = xs[a]\n",
    "            A_a = self.As[a]\n",
    "            b_a = self.bs[a]\n",
    "            # calculate theta_a\n",
    "            theta_a = np.dot(inv(A_a), b_a)\n",
    "            # calculate reward_a\n",
    "            fst_term = np.dot(theta_a.T, x_a)\n",
    "            snd_term = self.alpha * np.sqrt(np.dot(np.dot(x_a.T, inv(A_a)), x_a))\n",
    "            self.ps[a] = fst_term + snd_term\n",
    "            \n",
    "        idx_max_arms = np.where(self.ps == np.max(self.ps))[0]\n",
    "        return np.random.choice(idx_max_arms) + 1\n",
    "        \n",
    "    \n",
    "    def update(self, arm, reward, context):\n",
    "        x_a = context[(arm-1)*self.ndims:arm*self.ndims]\n",
    "        A_a = self.As[arm-1]\n",
    "        b_a = self.bs[arm-1]\n",
    "        self.As[arm-1] = A_a + np.dot(x_a, x_a.T)\n",
    "        self.bs[arm-1] = b_a + reward * x_a\n",
    "    "
   ]
  },
  {
   "cell_type": "code",
   "execution_count": 26,
   "metadata": {},
   "outputs": [
    {
     "name": "stdout",
     "output_type": "stream",
     "text": [
      "LinUCB average reward 0.2675\n"
     ]
    }
   ],
   "source": [
    "mab = LinUCB(10, 10, 1.0)\n",
    "results_LinUCB = offlineEvaluate(mab, arms, rewards, contexts, 800)\n",
    "print('LinUCB average reward', np.mean(results_LinUCB))"
   ]
  },
  {
   "cell_type": "markdown",
   "metadata": {},
   "source": [
    "## 4. Evaluation\n",
    "### 4.A."
   ]
  },
  {
   "cell_type": "code",
   "execution_count": 27,
   "metadata": {},
   "outputs": [
    {
     "data": {
      "image/png": "[encoded data removed]",
      "text/plain": [
       "<matplotlib.figure.Figure at 0x7f19737cc208>"
      ]
     },
     "metadata": {},
     "output_type": "display_data"
    }
   ],
   "source": [
    "\"\"\"plotting the cumulative rewards for three mab algorithems implemented above\"\"\"\n",
    "\n",
    "def calc_cumulative_reward(results):\n",
    "    \"\"\"\n",
    "    calculate the cumulative rewards based on the array of rewards given for each round\n",
    "    \"\"\"\n",
    "    c_results = np.zeros(len(results))\n",
    "    c_rewards = 0\n",
    "    for i,r in enumerate(results):\n",
    "        c_rewards += r\n",
    "        c_results[i] = c_rewards / (i + 1)\n",
    "    return c_results\n",
    "\n",
    "c_results_EpsGreedy = calc_cumulative_reward(results_EpsGreedy)\n",
    "c_results_UCB = calc_cumulative_reward(results_UCB)\n",
    "c_results_LinUCB = calc_cumulative_reward(results_LinUCB)\n",
    "\n",
    "range_T = np.arange(1, len(c_results_LinUCB)+1, dtype=int)\n",
    "\n",
    "plt.plot(range_T, c_results_EpsGreedy, 'r.-', label='EpsGreedy')\n",
    "plt.plot(range_T, c_results_UCB, 'c.-', label='UCB')\n",
    "plt.plot(range_T, c_results_LinUCB, 'g.-', label='LinUCB')\n",
    "plt.xlabel('number of rounds, $T$')\n",
    "plt.ylabel('cumulative reward')\n",
    "plt.legend()\n",
    "plt.show()"
   ]
  },
  {
   "cell_type": "markdown",
   "metadata": {},
   "source": [
    "### 4.B."
   ]
  },
  {
   "cell_type": "code",
   "execution_count": 28,
   "metadata": {},
   "outputs": [
    {
     "data": {
      "image/png": "[encoded data removed]",
      "text/plain": [
       "<matplotlib.figure.Figure at 0x7f197374fc18>"
      ]
     },
     "metadata": {},
     "output_type": "display_data"
    },
    {
     "name": "stdout",
     "output_type": "stream",
     "text": [
      "possible best alpha:  [0.2, 0.3, 0.5]\n"
     ]
    }
   ],
   "source": [
    "\"\"\"grid research on the hyperparameter alpha for LinBCA\"\"\"\n",
    "\n",
    "alphas = [i/10.0 for i in range(1,11)]\n",
    "results = np.zeros(len(alphas), dtype=float)\n",
    "\n",
    "for i,alpha in enumerate(alphas):\n",
    "    mab = LinUCB(10, 10, alpha)\n",
    "    results_LinUCB = offlineEvaluate(mab, arms, rewards, contexts, 800)\n",
    "    results[i] = np.mean(results_LinUCB)\n",
    "\n",
    "plt.plot(alphas, results, 'b.-', label='LinUCB')\n",
    "plt.xlabel('$alpha$')\n",
    "plt.ylabel('average reward')\n",
    "plt.legend()\n",
    "plt.show()\n",
    "\n",
    "print(\"possible best alpha: \", [alphas[i] for i in np.where(results==np.max(results))[0]])"
   ]
  },
  {
   "cell_type": "markdown",
   "metadata": {},
   "source": [
    "## 5. KernelUCB"
   ]
  },
  {
   "cell_type": "code",
   "execution_count": 29,
   "metadata": {
    "collapsed": true,
    "jupyter": {
     "outputs_hidden": true
    }
   },
   "outputs": [],
   "source": [
    "# Do not edit. Special import for this section.\n",
    "from sklearn.metrics.pairwise import rbf_kernel"
   ]
  },
  {
   "cell_type": "code",
   "execution_count": 30,
   "metadata": {},
   "outputs": [],
   "source": [
    "class KernelUCB(MAB):\n",
    "    \"\"\"\n",
    "    Kernelised contextual multi-armed bandit (Kernelised LinUCB)\n",
    "    \n",
    "    Arguments\n",
    "    =========\n",
    "    narms : int\n",
    "        number of arms\n",
    "\n",
    "    ndims : int\n",
    "        number of dimensions for each arm's context\n",
    "\n",
    "    gamma : float\n",
    "        positive real explore-exploit parameter\n",
    "    \n",
    "    eta : float\n",
    "        positive real explore-exploit parameter\n",
    "    \n",
    "    kern : callable\n",
    "        a kernel function from sklearn.metrics.pairwise\n",
    "    \"\"\"\n",
    "    def __init__(self, narms, ndims, gamma, eta, kern):\n",
    "        assert(narms > 0)\n",
    "        assert(ndims > 0)\n",
    "        assert (gamma > 0)\n",
    "        assert (eta > 0)\n",
    "        self.narms = narms\n",
    "        self.ndims = ndims\n",
    "        self.gamma = gamma\n",
    "        self.eta = eta\n",
    "        self.kern = kern\n",
    "        \n",
    "        self.us = np.zeros(narms)\n",
    "        self.us[0] = 1\n",
    "        self.ys = np.empty(0)\n",
    "        self.K_inv = np.empty(0)\n",
    "        self.bs = np.empty(0)\n",
    "        self.xs = []\n",
    "        \n",
    "    \n",
    "    def play(self, tround, context):\n",
    "        idx_max_arms = np.where(self.us == np.max(self.us))[0]\n",
    "        return np.random.choice(idx_max_arms) + 1\n",
    "        \n",
    "    \n",
    "    def update(self, arm, reward, context):\n",
    "        x_t = context[(arm-1)*self.ndims:arm*self.ndims]\n",
    "        inner_prod = self.kern(x_t, x_t)\n",
    "        self.ys = np.append(self.ys, reward)\n",
    "        self.xs.append(x_t)\n",
    "        \n",
    "        if len(self.ys) == 1:\n",
    "            self.K_inv = 1/(inner_prod + self.gamma)\n",
    "        else:\n",
    "            self.bs = np.append(self.bs, inner_prod)\n",
    "            K_22 = 1/(inner_prod + self.gamma - np.dot(np.dot(self.bs.T, self.K_inv), self.bs))\n",
    "            K_11 = self.K_inv + K_22 * np.dot(np.dot(np.dot(self.K_inv, self.bs),self.bs.T),self.K_inv)\n",
    "            K_12 = -K_22 * np.dot(inv(self.K_inv), self.bs)\n",
    "            K_21 = -K_22 * np.dot(self.bs.T, self.K_inv)\n",
    "            self.K_inv = np.vstack([np.hstack([K_11, K_12]), np.append(K_21, K_22)])\n",
    "        \n",
    "        for a in range(self.narms):\n",
    "            k_xt = np.array([self.kern(x_t, x_i) for x_i in self.xs])\n",
    "            x_at = context[a*self.ndims:(a+1)*self.ndims]\n",
    "            s = np.sqrt(self.kern(x_at, x_at) - np.dot(np.dot(k_xt.T,self.K_inv),k_xt))\n",
    "            self.us[a] = np.dot(np.dot(k_xt, self.K_inv), self.ys) + self.eta/np.sqrt(self.gamma)*s\n",
    "        \n",
    "    "
   ]
  }
 ],
 "metadata": {
  "kernelspec": {
   "display_name": "Python 3",
   "language": "python",
   "name": "python3"
  },
  "language_info": {
   "codemirror_mode": {
    "name": "ipython",
    "version": 3
   },
   "file_extension": ".py",
   "mimetype": "text/x-python",
   "name": "python",
   "nbconvert_exporter": "python",
   "pygments_lexer": "ipython3",
   "version": "3.7.3"
  }
 },
 "nbformat": 4,
 "nbformat_minor": 4
}
